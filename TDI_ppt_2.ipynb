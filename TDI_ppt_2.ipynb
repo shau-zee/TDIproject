{
 "cells": [
  {
   "cell_type": "code",
   "execution_count": 2,
   "metadata": {},
   "outputs": [],
   "source": [
    "import urllib, requests, re"
   ]
  },
  {
   "cell_type": "code",
   "execution_count": 3,
   "metadata": {},
   "outputs": [],
   "source": [
    "import numpy as np"
   ]
  },
  {
   "cell_type": "code",
   "execution_count": 4,
   "metadata": {},
   "outputs": [],
   "source": [
    "import pandas as pd"
   ]
  },
  {
   "cell_type": "code",
   "execution_count": 5,
   "metadata": {},
   "outputs": [],
   "source": [
    "import json"
   ]
  },
  {
   "cell_type": "code",
   "execution_count": 25,
   "metadata": {},
   "outputs": [],
   "source": [
    "import matplotlib.pyplot as plt"
   ]
  },
  {
   "cell_type": "code",
   "execution_count": 6,
   "metadata": {},
   "outputs": [],
   "source": [
    "ctUrl2 = urllib.request.urlopen('https://clinicaltrials.gov/api/query/study_fields?expr=covid-19&fields=BriefTitle%2C+BriefSummary%2CCollaboratorName%2C+IsFDARegulatedDrug%2C+LeadSponsorName%2C+LocationCountry%2C+StartDate%2COverallStatus%2CDetailedDescription%2CResponsiblePartyType&min_rnk=1&max_rnk=1000&fmt=json')"
   ]
  },
  {
   "cell_type": "code",
   "execution_count": 7,
   "metadata": {},
   "outputs": [],
   "source": [
    "ctData2 = ctUrl2.read()"
   ]
  },
  {
   "cell_type": "code",
   "execution_count": 8,
   "metadata": {},
   "outputs": [],
   "source": [
    "ct_json2=json.loads(ctData2)"
   ]
  },
  {
   "cell_type": "code",
   "execution_count": 28,
   "metadata": {},
   "outputs": [
    {
     "data": {
      "text/html": [
       "<div>\n",
       "<style scoped>\n",
       "    .dataframe tbody tr th:only-of-type {\n",
       "        vertical-align: middle;\n",
       "    }\n",
       "\n",
       "    .dataframe tbody tr th {\n",
       "        vertical-align: top;\n",
       "    }\n",
       "\n",
       "    .dataframe thead th {\n",
       "        text-align: right;\n",
       "    }\n",
       "</style>\n",
       "<table border=\"1\" class=\"dataframe\">\n",
       "  <thead>\n",
       "    <tr style=\"text-align: right;\">\n",
       "      <th></th>\n",
       "      <th>BriefTitle</th>\n",
       "      <th>BriefSummary</th>\n",
       "      <th>CollaboratorName</th>\n",
       "      <th>IsFDARegulatedDrug</th>\n",
       "      <th>LeadSponsorName</th>\n",
       "      <th>LocationCountry</th>\n",
       "      <th>StartDate</th>\n",
       "      <th>OverallStatus</th>\n",
       "      <th>DetailedDescription</th>\n",
       "      <th>ResponsiblePartyType</th>\n",
       "    </tr>\n",
       "  </thead>\n",
       "  <tbody>\n",
       "    <tr>\n",
       "      <th>0</th>\n",
       "      <td>COVID-19 Infection in Patients With Hepatocell...</td>\n",
       "      <td>Since December 2019, a new disease named COVID...</td>\n",
       "      <td>Centre Hospitalier-Universitaire Bondy</td>\n",
       "      <td>No</td>\n",
       "      <td>Centre Hospitalier Universitaire, Amiens</td>\n",
       "      <td>France</td>\n",
       "      <td>April 27, 2020</td>\n",
       "      <td>Recruiting</td>\n",
       "      <td>None</td>\n",
       "      <td>Sponsor</td>\n",
       "    </tr>\n",
       "    <tr>\n",
       "      <th>1</th>\n",
       "      <td>Comparison of the Efficacy of Rapid Tests to I...</td>\n",
       "      <td>This study is designed to compare the efficacy...</td>\n",
       "      <td>None</td>\n",
       "      <td>No</td>\n",
       "      <td>Texas Cardiac Arrhythmia Research Foundation</td>\n",
       "      <td>None</td>\n",
       "      <td>May 2020</td>\n",
       "      <td>Not yet recruiting</td>\n",
       "      <td>The investigators hypothesize that viral-RNA t...</td>\n",
       "      <td>Principal Investigator</td>\n",
       "    </tr>\n",
       "    <tr>\n",
       "      <th>2</th>\n",
       "      <td>Evaluation of Clinical Parameters on Admission...</td>\n",
       "      <td>Investigators will recruit patients diagnosed ...</td>\n",
       "      <td>None</td>\n",
       "      <td>No</td>\n",
       "      <td>Nisantasi University</td>\n",
       "      <td>Turkey</td>\n",
       "      <td>May 1, 2020</td>\n",
       "      <td>Recruiting</td>\n",
       "      <td>Covid-19 infections demonstrated a pandemic sp...</td>\n",
       "      <td>Principal Investigator</td>\n",
       "    </tr>\n",
       "    <tr>\n",
       "      <th>3</th>\n",
       "      <td>COVID-19 Surveillance of Patients and Healthca...</td>\n",
       "      <td>Doctors, nurses and staff members of ear-nose ...</td>\n",
       "      <td>None</td>\n",
       "      <td>No</td>\n",
       "      <td>Rigshospitalet, Denmark</td>\n",
       "      <td>Denmark</td>\n",
       "      <td>March 23, 2020</td>\n",
       "      <td>Enrolling by invitation</td>\n",
       "      <td>At present the COVID-19 pandemic is evolving, ...</td>\n",
       "      <td>Principal Investigator</td>\n",
       "    </tr>\n",
       "    <tr>\n",
       "      <th>4</th>\n",
       "      <td>Viral Infection and Respiratory Illness Univer...</td>\n",
       "      <td>Researchers are creating a real time COVID-19 ...</td>\n",
       "      <td>None</td>\n",
       "      <td>No</td>\n",
       "      <td>Mayo Clinic</td>\n",
       "      <td>United States</td>\n",
       "      <td>March 30, 2020</td>\n",
       "      <td>Recruiting</td>\n",
       "      <td>Investigators aim is to create a real time COV...</td>\n",
       "      <td>Principal Investigator</td>\n",
       "    </tr>\n",
       "    <tr>\n",
       "      <th>5</th>\n",
       "      <td>Characteristics and Outcome of Coronavirus Dis...</td>\n",
       "      <td>The World Health Organization (WHO) has recent...</td>\n",
       "      <td>None</td>\n",
       "      <td>No</td>\n",
       "      <td>Assiut University</td>\n",
       "      <td>None</td>\n",
       "      <td>May 1, 2020</td>\n",
       "      <td>Not yet recruiting</td>\n",
       "      <td>Patients admitted to Assiut University hospita...</td>\n",
       "      <td>Principal Investigator</td>\n",
       "    </tr>\n",
       "    <tr>\n",
       "      <th>6</th>\n",
       "      <td>Assessment of Obstetric, Fetal and Neonatal Ri...</td>\n",
       "      <td>A new coronavirus (COVID-19) highlighted at th...</td>\n",
       "      <td>None</td>\n",
       "      <td>No</td>\n",
       "      <td>University Hospital, Toulouse</td>\n",
       "      <td>France</td>\n",
       "      <td>April 17, 2020</td>\n",
       "      <td>Recruiting</td>\n",
       "      <td>The main objective of this project is to set u...</td>\n",
       "      <td>Sponsor</td>\n",
       "    </tr>\n",
       "    <tr>\n",
       "      <th>7</th>\n",
       "      <td>Convalescent Plasma in ICU Patients With COVID...</td>\n",
       "      <td>This study will assess the feasibility of admi...</td>\n",
       "      <td>Johns Hopkins University</td>\n",
       "      <td>Yes</td>\n",
       "      <td>Noah Merin</td>\n",
       "      <td>United States</td>\n",
       "      <td>May 2020</td>\n",
       "      <td>Not yet recruiting</td>\n",
       "      <td>Convalescent plasma is an antibody-rich produc...</td>\n",
       "      <td>Sponsor-Investigator</td>\n",
       "    </tr>\n",
       "    <tr>\n",
       "      <th>8</th>\n",
       "      <td>CoVID-19 Plasma in Treatment of COVID-19 Patients</td>\n",
       "      <td>The investigatores propose to evaluate intrave...</td>\n",
       "      <td>None</td>\n",
       "      <td>Yes</td>\n",
       "      <td>The Christ Hospital</td>\n",
       "      <td>United States</td>\n",
       "      <td>April 2020</td>\n",
       "      <td>Recruiting</td>\n",
       "      <td>Coronavirus's are responsible for 15-30% of \"c...</td>\n",
       "      <td>Principal Investigator</td>\n",
       "    </tr>\n",
       "    <tr>\n",
       "      <th>9</th>\n",
       "      <td>Clinical Application of Methylene Blue for Tre...</td>\n",
       "      <td>The severe acute respiratory syndrome caused b...</td>\n",
       "      <td>None</td>\n",
       "      <td>No</td>\n",
       "      <td>Mashhad University of Medical Sciences</td>\n",
       "      <td>Iran, Islamic Republic of</td>\n",
       "      <td>April 19, 2020</td>\n",
       "      <td>Recruiting</td>\n",
       "      <td>None</td>\n",
       "      <td>Principal Investigator</td>\n",
       "    </tr>\n",
       "    <tr>\n",
       "      <th>10</th>\n",
       "      <td>Slovenian National COVID-19 Prevalence Study</td>\n",
       "      <td>The investigators are conducting a national CO...</td>\n",
       "      <td>None</td>\n",
       "      <td>No</td>\n",
       "      <td>University of Ljubljana</td>\n",
       "      <td>Slovenia</td>\n",
       "      <td>April 20, 2020</td>\n",
       "      <td>Recruiting</td>\n",
       "      <td>The investigators are conducting a national CO...</td>\n",
       "      <td>Sponsor</td>\n",
       "    </tr>\n",
       "    <tr>\n",
       "      <th>11</th>\n",
       "      <td>Clinical Characteristics and Outcomes of Pedia...</td>\n",
       "      <td>Rationale: The clinical manifestations of SARS...</td>\n",
       "      <td>None</td>\n",
       "      <td>No</td>\n",
       "      <td>University of Calgary</td>\n",
       "      <td>Canada</td>\n",
       "      <td>March 18, 2020</td>\n",
       "      <td>Recruiting</td>\n",
       "      <td>Pediatric COVID-19: The characteristics of ped...</td>\n",
       "      <td>Sponsor</td>\n",
       "    </tr>\n",
       "    <tr>\n",
       "      <th>12</th>\n",
       "      <td>COVID-19 Endoscopy Survey</td>\n",
       "      <td>A questionnaire containing some critical quest...</td>\n",
       "      <td>None</td>\n",
       "      <td>No</td>\n",
       "      <td>Al-Azhar University</td>\n",
       "      <td>United States</td>\n",
       "      <td>April 10, 2020</td>\n",
       "      <td>Recruiting</td>\n",
       "      <td>Participants has to answer the following quest...</td>\n",
       "      <td>Principal Investigator</td>\n",
       "    </tr>\n",
       "    <tr>\n",
       "      <th>13</th>\n",
       "      <td>ANTIBODY BASED TESTS FOR SARSCoV-2 COVID-19) -...</td>\n",
       "      <td>This study will be conducted as a registry to ...</td>\n",
       "      <td>None</td>\n",
       "      <td>No</td>\n",
       "      <td>Texas Cardiac Arrhythmia Research Foundation</td>\n",
       "      <td>United States</td>\n",
       "      <td>March 27, 2020</td>\n",
       "      <td>Recruiting</td>\n",
       "      <td>This study will be conducted as a registry to ...</td>\n",
       "      <td>Sponsor</td>\n",
       "    </tr>\n",
       "    <tr>\n",
       "      <th>14</th>\n",
       "      <td>Anti COVID-19 Convalescent Plasma Therapy</td>\n",
       "      <td>Why is the research needed? The pandemic known...</td>\n",
       "      <td>Semmelweis University</td>\n",
       "      <td>No</td>\n",
       "      <td>Orthosera Kft.</td>\n",
       "      <td>None</td>\n",
       "      <td>April 14, 2020</td>\n",
       "      <td>Not yet recruiting</td>\n",
       "      <td>None</td>\n",
       "      <td>Sponsor</td>\n",
       "    </tr>\n",
       "    <tr>\n",
       "      <th>15</th>\n",
       "      <td>Risks of COVID19 in the Pregnant Population</td>\n",
       "      <td>It is unclear how COVID19 can be passed from m...</td>\n",
       "      <td>None</td>\n",
       "      <td>No</td>\n",
       "      <td>Mayo Clinic</td>\n",
       "      <td>United States</td>\n",
       "      <td>May 5, 2020</td>\n",
       "      <td>Not yet recruiting</td>\n",
       "      <td>The objectives are to understand the prevalenc...</td>\n",
       "      <td>Principal Investigator</td>\n",
       "    </tr>\n",
       "    <tr>\n",
       "      <th>16</th>\n",
       "      <td>NGS Diagnostic in COVID-19 Hosts - Genetic Cau...</td>\n",
       "      <td>In this study (i) the host genome to identify ...</td>\n",
       "      <td>None</td>\n",
       "      <td>No</td>\n",
       "      <td>University Hospital Tuebingen</td>\n",
       "      <td>None</td>\n",
       "      <td>April 2020</td>\n",
       "      <td>Not yet recruiting</td>\n",
       "      <td>This study aims to recruit adult persons with ...</td>\n",
       "      <td>Sponsor</td>\n",
       "    </tr>\n",
       "    <tr>\n",
       "      <th>17</th>\n",
       "      <td>Assessment of Covid-19 Infection Rates in Heal...</td>\n",
       "      <td>Desynchronization of infection rates in health...</td>\n",
       "      <td>None</td>\n",
       "      <td>No</td>\n",
       "      <td>University Hospital Inselspital, Berne</td>\n",
       "      <td>Switzerland</td>\n",
       "      <td>March 19, 2020</td>\n",
       "      <td>Recruiting</td>\n",
       "      <td>Severe acute respiratory syndrome coronavirus ...</td>\n",
       "      <td>Sponsor</td>\n",
       "    </tr>\n",
       "    <tr>\n",
       "      <th>18</th>\n",
       "      <td>Isotretinoin in Treatment of COVID-19</td>\n",
       "      <td>The COVID-19 pandemic caused by SARS-COV-2 has...</td>\n",
       "      <td>None</td>\n",
       "      <td>Yes</td>\n",
       "      <td>Tanta University</td>\n",
       "      <td>None</td>\n",
       "      <td>April 21, 2020</td>\n",
       "      <td>Not yet recruiting</td>\n",
       "      <td>The study is a randomized interventional compa...</td>\n",
       "      <td>Principal Investigator</td>\n",
       "    </tr>\n",
       "    <tr>\n",
       "      <th>19</th>\n",
       "      <td>National Survey of Symptoms of People Aged 70 ...</td>\n",
       "      <td>Cross-sectional study based on a French nation...</td>\n",
       "      <td>None</td>\n",
       "      <td>No</td>\n",
       "      <td>University Hospital, Angers</td>\n",
       "      <td>France</td>\n",
       "      <td>March 22, 2020</td>\n",
       "      <td>Completed</td>\n",
       "      <td>This cross-sectional survey was initiated and ...</td>\n",
       "      <td>Sponsor</td>\n",
       "    </tr>\n",
       "  </tbody>\n",
       "</table>\n",
       "</div>"
      ],
      "text/plain": [
       "                                           BriefTitle  \\\n",
       "0   COVID-19 Infection in Patients With Hepatocell...   \n",
       "1   Comparison of the Efficacy of Rapid Tests to I...   \n",
       "2   Evaluation of Clinical Parameters on Admission...   \n",
       "3   COVID-19 Surveillance of Patients and Healthca...   \n",
       "4   Viral Infection and Respiratory Illness Univer...   \n",
       "5   Characteristics and Outcome of Coronavirus Dis...   \n",
       "6   Assessment of Obstetric, Fetal and Neonatal Ri...   \n",
       "7   Convalescent Plasma in ICU Patients With COVID...   \n",
       "8   CoVID-19 Plasma in Treatment of COVID-19 Patients   \n",
       "9   Clinical Application of Methylene Blue for Tre...   \n",
       "10       Slovenian National COVID-19 Prevalence Study   \n",
       "11  Clinical Characteristics and Outcomes of Pedia...   \n",
       "12                          COVID-19 Endoscopy Survey   \n",
       "13  ANTIBODY BASED TESTS FOR SARSCoV-2 COVID-19) -...   \n",
       "14          Anti COVID-19 Convalescent Plasma Therapy   \n",
       "15        Risks of COVID19 in the Pregnant Population   \n",
       "16  NGS Diagnostic in COVID-19 Hosts - Genetic Cau...   \n",
       "17  Assessment of Covid-19 Infection Rates in Heal...   \n",
       "18              Isotretinoin in Treatment of COVID-19   \n",
       "19  National Survey of Symptoms of People Aged 70 ...   \n",
       "\n",
       "                                         BriefSummary  \\\n",
       "0   Since December 2019, a new disease named COVID...   \n",
       "1   This study is designed to compare the efficacy...   \n",
       "2   Investigators will recruit patients diagnosed ...   \n",
       "3   Doctors, nurses and staff members of ear-nose ...   \n",
       "4   Researchers are creating a real time COVID-19 ...   \n",
       "5   The World Health Organization (WHO) has recent...   \n",
       "6   A new coronavirus (COVID-19) highlighted at th...   \n",
       "7   This study will assess the feasibility of admi...   \n",
       "8   The investigatores propose to evaluate intrave...   \n",
       "9   The severe acute respiratory syndrome caused b...   \n",
       "10  The investigators are conducting a national CO...   \n",
       "11  Rationale: The clinical manifestations of SARS...   \n",
       "12  A questionnaire containing some critical quest...   \n",
       "13  This study will be conducted as a registry to ...   \n",
       "14  Why is the research needed? The pandemic known...   \n",
       "15  It is unclear how COVID19 can be passed from m...   \n",
       "16  In this study (i) the host genome to identify ...   \n",
       "17  Desynchronization of infection rates in health...   \n",
       "18  The COVID-19 pandemic caused by SARS-COV-2 has...   \n",
       "19  Cross-sectional study based on a French nation...   \n",
       "\n",
       "                          CollaboratorName IsFDARegulatedDrug  \\\n",
       "0   Centre Hospitalier-Universitaire Bondy                 No   \n",
       "1                                     None                 No   \n",
       "2                                     None                 No   \n",
       "3                                     None                 No   \n",
       "4                                     None                 No   \n",
       "5                                     None                 No   \n",
       "6                                     None                 No   \n",
       "7                 Johns Hopkins University                Yes   \n",
       "8                                     None                Yes   \n",
       "9                                     None                 No   \n",
       "10                                    None                 No   \n",
       "11                                    None                 No   \n",
       "12                                    None                 No   \n",
       "13                                    None                 No   \n",
       "14                   Semmelweis University                 No   \n",
       "15                                    None                 No   \n",
       "16                                    None                 No   \n",
       "17                                    None                 No   \n",
       "18                                    None                Yes   \n",
       "19                                    None                 No   \n",
       "\n",
       "                                 LeadSponsorName            LocationCountry  \\\n",
       "0       Centre Hospitalier Universitaire, Amiens                     France   \n",
       "1   Texas Cardiac Arrhythmia Research Foundation                       None   \n",
       "2                           Nisantasi University                     Turkey   \n",
       "3                        Rigshospitalet, Denmark                    Denmark   \n",
       "4                                    Mayo Clinic              United States   \n",
       "5                              Assiut University                       None   \n",
       "6                  University Hospital, Toulouse                     France   \n",
       "7                                     Noah Merin              United States   \n",
       "8                            The Christ Hospital              United States   \n",
       "9         Mashhad University of Medical Sciences  Iran, Islamic Republic of   \n",
       "10                       University of Ljubljana                   Slovenia   \n",
       "11                         University of Calgary                     Canada   \n",
       "12                           Al-Azhar University              United States   \n",
       "13  Texas Cardiac Arrhythmia Research Foundation              United States   \n",
       "14                                Orthosera Kft.                       None   \n",
       "15                                   Mayo Clinic              United States   \n",
       "16                 University Hospital Tuebingen                       None   \n",
       "17        University Hospital Inselspital, Berne                Switzerland   \n",
       "18                              Tanta University                       None   \n",
       "19                   University Hospital, Angers                     France   \n",
       "\n",
       "         StartDate            OverallStatus  \\\n",
       "0   April 27, 2020               Recruiting   \n",
       "1         May 2020       Not yet recruiting   \n",
       "2      May 1, 2020               Recruiting   \n",
       "3   March 23, 2020  Enrolling by invitation   \n",
       "4   March 30, 2020               Recruiting   \n",
       "5      May 1, 2020       Not yet recruiting   \n",
       "6   April 17, 2020               Recruiting   \n",
       "7         May 2020       Not yet recruiting   \n",
       "8       April 2020               Recruiting   \n",
       "9   April 19, 2020               Recruiting   \n",
       "10  April 20, 2020               Recruiting   \n",
       "11  March 18, 2020               Recruiting   \n",
       "12  April 10, 2020               Recruiting   \n",
       "13  March 27, 2020               Recruiting   \n",
       "14  April 14, 2020       Not yet recruiting   \n",
       "15     May 5, 2020       Not yet recruiting   \n",
       "16      April 2020       Not yet recruiting   \n",
       "17  March 19, 2020               Recruiting   \n",
       "18  April 21, 2020       Not yet recruiting   \n",
       "19  March 22, 2020                Completed   \n",
       "\n",
       "                                  DetailedDescription    ResponsiblePartyType  \n",
       "0                                                None                 Sponsor  \n",
       "1   The investigators hypothesize that viral-RNA t...  Principal Investigator  \n",
       "2   Covid-19 infections demonstrated a pandemic sp...  Principal Investigator  \n",
       "3   At present the COVID-19 pandemic is evolving, ...  Principal Investigator  \n",
       "4   Investigators aim is to create a real time COV...  Principal Investigator  \n",
       "5   Patients admitted to Assiut University hospita...  Principal Investigator  \n",
       "6   The main objective of this project is to set u...                 Sponsor  \n",
       "7   Convalescent plasma is an antibody-rich produc...    Sponsor-Investigator  \n",
       "8   Coronavirus's are responsible for 15-30% of \"c...  Principal Investigator  \n",
       "9                                                None  Principal Investigator  \n",
       "10  The investigators are conducting a national CO...                 Sponsor  \n",
       "11  Pediatric COVID-19: The characteristics of ped...                 Sponsor  \n",
       "12  Participants has to answer the following quest...  Principal Investigator  \n",
       "13  This study will be conducted as a registry to ...                 Sponsor  \n",
       "14                                               None                 Sponsor  \n",
       "15  The objectives are to understand the prevalenc...  Principal Investigator  \n",
       "16  This study aims to recruit adult persons with ...                 Sponsor  \n",
       "17  Severe acute respiratory syndrome coronavirus ...                 Sponsor  \n",
       "18  The study is a randomized interventional compa...  Principal Investigator  \n",
       "19  This cross-sectional survey was initiated and ...                 Sponsor  "
      ]
     },
     "execution_count": 28,
     "metadata": {},
     "output_type": "execute_result"
    }
   ],
   "source": [
    "df2.head(20)"
   ]
  },
  {
   "cell_type": "code",
   "execution_count": 17,
   "metadata": {},
   "outputs": [
    {
     "data": {
      "text/html": [
       "<div>\n",
       "<style scoped>\n",
       "    .dataframe tbody tr th:only-of-type {\n",
       "        vertical-align: middle;\n",
       "    }\n",
       "\n",
       "    .dataframe tbody tr th {\n",
       "        vertical-align: top;\n",
       "    }\n",
       "\n",
       "    .dataframe thead th {\n",
       "        text-align: right;\n",
       "    }\n",
       "</style>\n",
       "<table border=\"1\" class=\"dataframe\">\n",
       "  <thead>\n",
       "    <tr style=\"text-align: right;\">\n",
       "      <th></th>\n",
       "      <th>BriefTitle</th>\n",
       "      <th>BriefSummary</th>\n",
       "      <th>CollaboratorName</th>\n",
       "      <th>IsFDARegulatedDrug</th>\n",
       "      <th>LeadSponsorName</th>\n",
       "      <th>LocationCountry</th>\n",
       "      <th>StartDate</th>\n",
       "      <th>OverallStatus</th>\n",
       "      <th>DetailedDescription</th>\n",
       "      <th>ResponsiblePartyType</th>\n",
       "    </tr>\n",
       "  </thead>\n",
       "  <tbody>\n",
       "    <tr>\n",
       "      <th>count</th>\n",
       "      <td>1000</td>\n",
       "      <td>1000</td>\n",
       "      <td>324</td>\n",
       "      <td>976</td>\n",
       "      <td>1000</td>\n",
       "      <td>805</td>\n",
       "      <td>988</td>\n",
       "      <td>1000</td>\n",
       "      <td>694</td>\n",
       "      <td>1000</td>\n",
       "    </tr>\n",
       "    <tr>\n",
       "      <th>unique</th>\n",
       "      <td>997</td>\n",
       "      <td>997</td>\n",
       "      <td>287</td>\n",
       "      <td>2</td>\n",
       "      <td>606</td>\n",
       "      <td>60</td>\n",
       "      <td>126</td>\n",
       "      <td>10</td>\n",
       "      <td>693</td>\n",
       "      <td>3</td>\n",
       "    </tr>\n",
       "    <tr>\n",
       "      <th>top</th>\n",
       "      <td>Study Assessing Vagus Nerve Stimulation in CoV...</td>\n",
       "      <td>The present study is a randomized, double-blin...</td>\n",
       "      <td>Institut National de la Santé Et de la Recherc...</td>\n",
       "      <td>No</td>\n",
       "      <td>Assistance Publique - Hôpitaux de Paris</td>\n",
       "      <td>United States</td>\n",
       "      <td>April 2020</td>\n",
       "      <td>Recruiting</td>\n",
       "      <td>The process is based on obtaining plasma from ...</td>\n",
       "      <td>Sponsor</td>\n",
       "    </tr>\n",
       "    <tr>\n",
       "      <th>freq</th>\n",
       "      <td>2</td>\n",
       "      <td>2</td>\n",
       "      <td>4</td>\n",
       "      <td>785</td>\n",
       "      <td>34</td>\n",
       "      <td>214</td>\n",
       "      <td>86</td>\n",
       "      <td>486</td>\n",
       "      <td>2</td>\n",
       "      <td>581</td>\n",
       "    </tr>\n",
       "  </tbody>\n",
       "</table>\n",
       "</div>"
      ],
      "text/plain": [
       "                                               BriefTitle  \\\n",
       "count                                                1000   \n",
       "unique                                                997   \n",
       "top     Study Assessing Vagus Nerve Stimulation in CoV...   \n",
       "freq                                                    2   \n",
       "\n",
       "                                             BriefSummary  \\\n",
       "count                                                1000   \n",
       "unique                                                997   \n",
       "top     The present study is a randomized, double-blin...   \n",
       "freq                                                    2   \n",
       "\n",
       "                                         CollaboratorName IsFDARegulatedDrug  \\\n",
       "count                                                 324                976   \n",
       "unique                                                287                  2   \n",
       "top     Institut National de la Santé Et de la Recherc...                 No   \n",
       "freq                                                    4                785   \n",
       "\n",
       "                                LeadSponsorName LocationCountry   StartDate  \\\n",
       "count                                      1000             805         988   \n",
       "unique                                      606              60         126   \n",
       "top     Assistance Publique - Hôpitaux de Paris   United States  April 2020   \n",
       "freq                                         34             214          86   \n",
       "\n",
       "       OverallStatus                                DetailedDescription  \\\n",
       "count           1000                                                694   \n",
       "unique            10                                                693   \n",
       "top       Recruiting  The process is based on obtaining plasma from ...   \n",
       "freq             486                                                  2   \n",
       "\n",
       "       ResponsiblePartyType  \n",
       "count                  1000  \n",
       "unique                    3  \n",
       "top                 Sponsor  \n",
       "freq                    581  "
      ]
     },
     "execution_count": 17,
     "metadata": {},
     "output_type": "execute_result"
    }
   ],
   "source": [
    "df2.describe()"
   ]
  },
  {
   "cell_type": "code",
   "execution_count": 22,
   "metadata": {},
   "outputs": [
    {
     "data": {
      "text/plain": [
       "BriefTitle              object\n",
       "BriefSummary            object\n",
       "CollaboratorName        object\n",
       "IsFDARegulatedDrug      object\n",
       "LeadSponsorName         object\n",
       "LocationCountry         object\n",
       "StartDate               object\n",
       "OverallStatus           object\n",
       "DetailedDescription     object\n",
       "ResponsiblePartyType    object\n",
       "dtype: object"
      ]
     },
     "execution_count": 22,
     "metadata": {},
     "output_type": "execute_result"
    }
   ],
   "source": [
    "df2.dtypes"
   ]
  },
  {
   "cell_type": "code",
   "execution_count": 31,
   "metadata": {},
   "outputs": [
    {
     "name": "stderr",
     "output_type": "stream",
     "text": [
      "/Users/shauryajoshi/opt/anaconda3/envs/tdi/lib/python3.7/site-packages/ipykernel_launcher.py:1: SettingWithCopyWarning: \n",
      "A value is trying to be set on a copy of a slice from a DataFrame.\n",
      "Try using .loc[row_indexer,col_indexer] = value instead\n",
      "\n",
      "See the caveats in the documentation: https://pandas.pydata.org/pandas-docs/stable/user_guide/indexing.html#returning-a-view-versus-a-copy\n",
      "  \"\"\"Entry point for launching an IPython kernel.\n"
     ]
    }
   ],
   "source": [
    "df4['ResponsiblePartyType']= pd.Categorical(df4['ResponsiblePartyType'], categories=['Sponsor', 'Principal Investigator', 'Sponsor-Investigator' ])"
   ]
  },
  {
   "cell_type": "markdown",
   "metadata": {},
   "source": [
    "### more that 50% of the trial were sponsored"
   ]
  },
  {
   "cell_type": "code",
   "execution_count": 396,
   "metadata": {},
   "outputs": [
    {
     "data": {
      "image/png": "[encoded data removed]",
      "text/plain": [
       "<Figure size 432x288 with 1 Axes>"
      ]
     },
     "metadata": {},
     "output_type": "display_data"
    }
   ],
   "source": [
    "plt.pie(df2['ResponsiblePartyType'].value_counts(), labels=['Sponsor', 'Principal Investigator', 'Sponsor-Investigator'],explode=(0.1,0,0))\n",
    "plt.show()"
   ]
  },
  {
   "cell_type": "markdown",
   "metadata": {},
   "source": [
    "### decided to drop non sponsored trials"
   ]
  },
  {
   "cell_type": "code",
   "execution_count": 77,
   "metadata": {},
   "outputs": [],
   "source": [
    "df4=df2.loc[df2['ResponsiblePartyType']=='Sponsor']"
   ]
  },
  {
   "cell_type": "code",
   "execution_count": 79,
   "metadata": {},
   "outputs": [
    {
     "data": {
      "text/html": [
       "<div>\n",
       "<style scoped>\n",
       "    .dataframe tbody tr th:only-of-type {\n",
       "        vertical-align: middle;\n",
       "    }\n",
       "\n",
       "    .dataframe tbody tr th {\n",
       "        vertical-align: top;\n",
       "    }\n",
       "\n",
       "    .dataframe thead th {\n",
       "        text-align: right;\n",
       "    }\n",
       "</style>\n",
       "<table border=\"1\" class=\"dataframe\">\n",
       "  <thead>\n",
       "    <tr style=\"text-align: right;\">\n",
       "      <th></th>\n",
       "      <th>BriefTitle</th>\n",
       "      <th>BriefSummary</th>\n",
       "      <th>CollaboratorName</th>\n",
       "      <th>IsFDARegulatedDrug</th>\n",
       "      <th>LeadSponsorName</th>\n",
       "      <th>LocationCountry</th>\n",
       "      <th>StartDate</th>\n",
       "      <th>OverallStatus</th>\n",
       "      <th>DetailedDescription</th>\n",
       "      <th>ResponsiblePartyType</th>\n",
       "    </tr>\n",
       "  </thead>\n",
       "  <tbody>\n",
       "    <tr>\n",
       "      <th>0</th>\n",
       "      <td>COVID-19 Infection in Patients With Hepatocell...</td>\n",
       "      <td>Since December 2019, a new disease named COVID...</td>\n",
       "      <td>Centre Hospitalier-Universitaire Bondy</td>\n",
       "      <td>No</td>\n",
       "      <td>Centre Hospitalier Universitaire, Amiens</td>\n",
       "      <td>France</td>\n",
       "      <td>April 27, 2020</td>\n",
       "      <td>Recruiting</td>\n",
       "      <td>None</td>\n",
       "      <td>Sponsor</td>\n",
       "    </tr>\n",
       "    <tr>\n",
       "      <th>6</th>\n",
       "      <td>Assessment of Obstetric, Fetal and Neonatal Ri...</td>\n",
       "      <td>A new coronavirus (COVID-19) highlighted at th...</td>\n",
       "      <td>None</td>\n",
       "      <td>No</td>\n",
       "      <td>University Hospital, Toulouse</td>\n",
       "      <td>France</td>\n",
       "      <td>April 17, 2020</td>\n",
       "      <td>Recruiting</td>\n",
       "      <td>The main objective of this project is to set u...</td>\n",
       "      <td>Sponsor</td>\n",
       "    </tr>\n",
       "    <tr>\n",
       "      <th>10</th>\n",
       "      <td>Slovenian National COVID-19 Prevalence Study</td>\n",
       "      <td>The investigators are conducting a national CO...</td>\n",
       "      <td>None</td>\n",
       "      <td>No</td>\n",
       "      <td>University of Ljubljana</td>\n",
       "      <td>Slovenia</td>\n",
       "      <td>April 20, 2020</td>\n",
       "      <td>Recruiting</td>\n",
       "      <td>The investigators are conducting a national CO...</td>\n",
       "      <td>Sponsor</td>\n",
       "    </tr>\n",
       "    <tr>\n",
       "      <th>11</th>\n",
       "      <td>Clinical Characteristics and Outcomes of Pedia...</td>\n",
       "      <td>Rationale: The clinical manifestations of SARS...</td>\n",
       "      <td>None</td>\n",
       "      <td>No</td>\n",
       "      <td>University of Calgary</td>\n",
       "      <td>Canada</td>\n",
       "      <td>March 18, 2020</td>\n",
       "      <td>Recruiting</td>\n",
       "      <td>Pediatric COVID-19: The characteristics of ped...</td>\n",
       "      <td>Sponsor</td>\n",
       "    </tr>\n",
       "    <tr>\n",
       "      <th>13</th>\n",
       "      <td>ANTIBODY BASED TESTS FOR SARSCoV-2 COVID-19) -...</td>\n",
       "      <td>This study will be conducted as a registry to ...</td>\n",
       "      <td>None</td>\n",
       "      <td>No</td>\n",
       "      <td>Texas Cardiac Arrhythmia Research Foundation</td>\n",
       "      <td>United States</td>\n",
       "      <td>March 27, 2020</td>\n",
       "      <td>Recruiting</td>\n",
       "      <td>This study will be conducted as a registry to ...</td>\n",
       "      <td>Sponsor</td>\n",
       "    </tr>\n",
       "  </tbody>\n",
       "</table>\n",
       "</div>"
      ],
      "text/plain": [
       "                                           BriefTitle  \\\n",
       "0   COVID-19 Infection in Patients With Hepatocell...   \n",
       "6   Assessment of Obstetric, Fetal and Neonatal Ri...   \n",
       "10       Slovenian National COVID-19 Prevalence Study   \n",
       "11  Clinical Characteristics and Outcomes of Pedia...   \n",
       "13  ANTIBODY BASED TESTS FOR SARSCoV-2 COVID-19) -...   \n",
       "\n",
       "                                         BriefSummary  \\\n",
       "0   Since December 2019, a new disease named COVID...   \n",
       "6   A new coronavirus (COVID-19) highlighted at th...   \n",
       "10  The investigators are conducting a national CO...   \n",
       "11  Rationale: The clinical manifestations of SARS...   \n",
       "13  This study will be conducted as a registry to ...   \n",
       "\n",
       "                          CollaboratorName IsFDARegulatedDrug  \\\n",
       "0   Centre Hospitalier-Universitaire Bondy                 No   \n",
       "6                                     None                 No   \n",
       "10                                    None                 No   \n",
       "11                                    None                 No   \n",
       "13                                    None                 No   \n",
       "\n",
       "                                 LeadSponsorName LocationCountry  \\\n",
       "0       Centre Hospitalier Universitaire, Amiens          France   \n",
       "6                  University Hospital, Toulouse          France   \n",
       "10                       University of Ljubljana        Slovenia   \n",
       "11                         University of Calgary          Canada   \n",
       "13  Texas Cardiac Arrhythmia Research Foundation   United States   \n",
       "\n",
       "         StartDate OverallStatus  \\\n",
       "0   April 27, 2020    Recruiting   \n",
       "6   April 17, 2020    Recruiting   \n",
       "10  April 20, 2020    Recruiting   \n",
       "11  March 18, 2020    Recruiting   \n",
       "13  March 27, 2020    Recruiting   \n",
       "\n",
       "                                  DetailedDescription ResponsiblePartyType  \n",
       "0                                                None              Sponsor  \n",
       "6   The main objective of this project is to set u...              Sponsor  \n",
       "10  The investigators are conducting a national CO...              Sponsor  \n",
       "11  Pediatric COVID-19: The characteristics of ped...              Sponsor  \n",
       "13  This study will be conducted as a registry to ...              Sponsor  "
      ]
     },
     "execution_count": 79,
     "metadata": {},
     "output_type": "execute_result"
    }
   ],
   "source": [
    "df4.head()"
   ]
  },
  {
   "cell_type": "markdown",
   "metadata": {},
   "source": [
    "### trials all over the world 48 countries France#1...before non-sponsored trials were droped USA#1"
   ]
  },
  {
   "cell_type": "code",
   "execution_count": 80,
   "metadata": {},
   "outputs": [
    {
     "data": {
      "text/html": [
       "<div>\n",
       "<style scoped>\n",
       "    .dataframe tbody tr th:only-of-type {\n",
       "        vertical-align: middle;\n",
       "    }\n",
       "\n",
       "    .dataframe tbody tr th {\n",
       "        vertical-align: top;\n",
       "    }\n",
       "\n",
       "    .dataframe thead th {\n",
       "        text-align: right;\n",
       "    }\n",
       "</style>\n",
       "<table border=\"1\" class=\"dataframe\">\n",
       "  <thead>\n",
       "    <tr style=\"text-align: right;\">\n",
       "      <th></th>\n",
       "      <th>BriefTitle</th>\n",
       "      <th>BriefSummary</th>\n",
       "      <th>CollaboratorName</th>\n",
       "      <th>IsFDARegulatedDrug</th>\n",
       "      <th>LeadSponsorName</th>\n",
       "      <th>LocationCountry</th>\n",
       "      <th>StartDate</th>\n",
       "      <th>OverallStatus</th>\n",
       "      <th>DetailedDescription</th>\n",
       "      <th>ResponsiblePartyType</th>\n",
       "    </tr>\n",
       "  </thead>\n",
       "  <tbody>\n",
       "    <tr>\n",
       "      <th>count</th>\n",
       "      <td>581</td>\n",
       "      <td>581</td>\n",
       "      <td>176</td>\n",
       "      <td>563</td>\n",
       "      <td>581</td>\n",
       "      <td>469</td>\n",
       "      <td>572</td>\n",
       "      <td>581</td>\n",
       "      <td>383</td>\n",
       "      <td>581</td>\n",
       "    </tr>\n",
       "    <tr>\n",
       "      <th>unique</th>\n",
       "      <td>580</td>\n",
       "      <td>581</td>\n",
       "      <td>159</td>\n",
       "      <td>2</td>\n",
       "      <td>329</td>\n",
       "      <td>48</td>\n",
       "      <td>98</td>\n",
       "      <td>8</td>\n",
       "      <td>383</td>\n",
       "      <td>1</td>\n",
       "    </tr>\n",
       "    <tr>\n",
       "      <th>top</th>\n",
       "      <td>Acalabrutinib Study With Best Supportive Care ...</td>\n",
       "      <td>The investigators aim to evaluate the efficacy...</td>\n",
       "      <td>Institut National de la Santé Et de la Recherc...</td>\n",
       "      <td>No</td>\n",
       "      <td>Assistance Publique - Hôpitaux de Paris</td>\n",
       "      <td>France</td>\n",
       "      <td>April 2020</td>\n",
       "      <td>Recruiting</td>\n",
       "      <td>A free monitoring app 'COVID-19 Symptom Tracke...</td>\n",
       "      <td>Sponsor</td>\n",
       "    </tr>\n",
       "    <tr>\n",
       "      <th>freq</th>\n",
       "      <td>2</td>\n",
       "      <td>1</td>\n",
       "      <td>3</td>\n",
       "      <td>449</td>\n",
       "      <td>34</td>\n",
       "      <td>146</td>\n",
       "      <td>60</td>\n",
       "      <td>296</td>\n",
       "      <td>1</td>\n",
       "      <td>581</td>\n",
       "    </tr>\n",
       "  </tbody>\n",
       "</table>\n",
       "</div>"
      ],
      "text/plain": [
       "                                               BriefTitle  \\\n",
       "count                                                 581   \n",
       "unique                                                580   \n",
       "top     Acalabrutinib Study With Best Supportive Care ...   \n",
       "freq                                                    2   \n",
       "\n",
       "                                             BriefSummary  \\\n",
       "count                                                 581   \n",
       "unique                                                581   \n",
       "top     The investigators aim to evaluate the efficacy...   \n",
       "freq                                                    1   \n",
       "\n",
       "                                         CollaboratorName IsFDARegulatedDrug  \\\n",
       "count                                                 176                563   \n",
       "unique                                                159                  2   \n",
       "top     Institut National de la Santé Et de la Recherc...                 No   \n",
       "freq                                                    3                449   \n",
       "\n",
       "                                LeadSponsorName LocationCountry   StartDate  \\\n",
       "count                                       581             469         572   \n",
       "unique                                      329              48          98   \n",
       "top     Assistance Publique - Hôpitaux de Paris          France  April 2020   \n",
       "freq                                         34             146          60   \n",
       "\n",
       "       OverallStatus                                DetailedDescription  \\\n",
       "count            581                                                383   \n",
       "unique             8                                                383   \n",
       "top       Recruiting  A free monitoring app 'COVID-19 Symptom Tracke...   \n",
       "freq             296                                                  1   \n",
       "\n",
       "       ResponsiblePartyType  \n",
       "count                   581  \n",
       "unique                    1  \n",
       "top                 Sponsor  \n",
       "freq                    581  "
      ]
     },
     "execution_count": 80,
     "metadata": {},
     "output_type": "execute_result"
    }
   ],
   "source": [
    "df4.describe()"
   ]
  },
  {
   "cell_type": "code",
   "execution_count": 131,
   "metadata": {},
   "outputs": [],
   "source": [
    "col_bio = df4[\"CollaboratorName\"].loc[df4[\"CollaboratorName\"].str.find(\"Bio\")>=0]"
   ]
  },
  {
   "cell_type": "code",
   "execution_count": 132,
   "metadata": {},
   "outputs": [
    {
     "data": {
      "text/plain": [
       "87                                            BioMérieux\n",
       "180       Hope Biosciences Stem Cell Research Foundation\n",
       "371                             Eiger BioPharmaceuticals\n",
       "413    Chongqing Sidemu Biotechnology Technology Co.,...\n",
       "577                                  BioClever 2005 S.L.\n",
       "771                               CanSino Biologics Inc.\n",
       "862                                           BioMérieux\n",
       "Name: CollaboratorName, dtype: object"
      ]
     },
     "execution_count": 132,
     "metadata": {},
     "output_type": "execute_result"
    }
   ],
   "source": [
    "col_bio"
   ]
  },
  {
   "cell_type": "code",
   "execution_count": 120,
   "metadata": {},
   "outputs": [],
   "source": [
    "col_pharma=df4[\"CollaboratorName\"].loc[df4[\"CollaboratorName\"].str.find('Pharma')>=0]"
   ]
  },
  {
   "cell_type": "code",
   "execution_count": 121,
   "metadata": {},
   "outputs": [
    {
     "data": {
      "text/plain": [
       "133                              Innate Pharma\n",
       "371                   Eiger BioPharmaceuticals\n",
       "501        Teva Pharmaceuticals Industries LTD\n",
       "602                         Acerta Pharma B.V.\n",
       "604                         Acerta Pharma B.V.\n",
       "655                               Iltoo Pharma\n",
       "701                            Roche Pharma AG\n",
       "869                       Bordeaux PharmacoEpi\n",
       "956    WanBangDe Pharmaceutical Group Co.,Ltd.\n",
       "Name: CollaboratorName, dtype: object"
      ]
     },
     "execution_count": 121,
     "metadata": {},
     "output_type": "execute_result"
    }
   ],
   "source": [
    "col_pharma"
   ]
  },
  {
   "cell_type": "code",
   "execution_count": 148,
   "metadata": {},
   "outputs": [],
   "source": [
    "col_sci=df4[\"CollaboratorName\"].loc[df4[\"CollaboratorName\"].str.find('Science')>=0]"
   ]
  },
  {
   "cell_type": "code",
   "execution_count": 149,
   "metadata": {},
   "outputs": [
    {
     "data": {
      "text/plain": [
       "156    Institut National des Sciences Appliquées (INSA)\n",
       "630                       London Health Sciences Centre\n",
       "Name: CollaboratorName, dtype: object"
      ]
     },
     "execution_count": 149,
     "metadata": {},
     "output_type": "execute_result"
    }
   ],
   "source": [
    "col_sci"
   ]
  },
  {
   "cell_type": "code",
   "execution_count": 165,
   "metadata": {},
   "outputs": [],
   "source": [
    "spo_bio=df4[\"LeadSponsorName\"].loc[df4[\"LeadSponsorName\"].str.find('Bio')>=0]"
   ]
  },
  {
   "cell_type": "code",
   "execution_count": 166,
   "metadata": {},
   "outputs": [
    {
     "data": {
      "text/plain": [
       "82                                     Apeiron Biologics\n",
       "104                                Ansun Biopharma, Inc.\n",
       "180                                     Hope Biosciences\n",
       "207                                       Biosearch S.A.\n",
       "397                                     Hope Biosciences\n",
       "420                                     Inmune Bio, Inc.\n",
       "423                                         ProgenaBiome\n",
       "431                       Biohaven Pharmaceuticals, Inc.\n",
       "469                                     Hope Biosciences\n",
       "493                                AVM Biotechnology LLC\n",
       "632                                   Can-Fite BioPharma\n",
       "637                                Applied Biology, Inc.\n",
       "646                Tianhe Stem Cell Biotechnologies Inc.\n",
       "664                                          Biontech SE\n",
       "676    Institute of Biophysics and Cell Engineering o...\n",
       "771    Insitute of Biotechnology, Academy of Military...\n",
       "803                           BioAegis Therapeutics Inc.\n",
       "831                             BioCryst Pharmaceuticals\n",
       "886                             I-Mab Biopharma Co. Ltd.\n",
       "888                                Ansun Biopharma, Inc.\n",
       "950    Maimónides Biomedical Research Institute of Có...\n",
       "965                                         ProgenaBiome\n",
       "Name: LeadSponsorName, dtype: object"
      ]
     },
     "execution_count": 166,
     "metadata": {},
     "output_type": "execute_result"
    }
   ],
   "source": [
    "spo_bio"
   ]
  },
  {
   "cell_type": "code",
   "execution_count": 167,
   "metadata": {},
   "outputs": [],
   "source": [
    "spo_pharma=df4[\"LeadSponsorName\"].loc[df4[\"LeadSponsorName\"].str.find('Pharma')>=0]"
   ]
  },
  {
   "cell_type": "code",
   "execution_count": 168,
   "metadata": {},
   "outputs": [
    {
     "data": {
      "text/plain": [
       "163                               Bukwang Pharmaceutical\n",
       "186                                        Hilton Pharma\n",
       "378    Mario Negri Institute for Pharmacological Rese...\n",
       "390                                Covis Pharma S.à.r.l.\n",
       "403                             Novartis Pharmaceuticals\n",
       "409                         Target PharmaSolutions, Inc.\n",
       "431                       Biohaven Pharmaceuticals, Inc.\n",
       "444                             Novartis Pharmaceuticals\n",
       "446                                            PharmaMar\n",
       "478    Uni-Pharma Kleon Tsetis Pharmaceutical Laborat...\n",
       "520                            Regeneron Pharmaceuticals\n",
       "553                Fujifilm Pharmaceuticals U.S.A., Inc.\n",
       "632                                   Can-Fite BioPharma\n",
       "713                             Novartis Pharmaceuticals\n",
       "750                             Novartis Pharmaceuticals\n",
       "784    Uni-Pharma Kleon Tsetis Pharmaceutical Laborat...\n",
       "826                             Novartis Pharmaceuticals\n",
       "831                             BioCryst Pharmaceuticals\n",
       "875                            MGC Pharmaceuticals d.o.o\n",
       "934                          Tasly Pharmaceuticals, Inc.\n",
       "938                              Alexion Pharmaceuticals\n",
       "952                              Alexion Pharmaceuticals\n",
       "Name: LeadSponsorName, dtype: object"
      ]
     },
     "execution_count": 168,
     "metadata": {},
     "output_type": "execute_result"
    }
   ],
   "source": [
    "spo_pharma"
   ]
  },
  {
   "cell_type": "code",
   "execution_count": 169,
   "metadata": {},
   "outputs": [],
   "source": [
    "spo_sci=df4[\"LeadSponsorName\"].loc[df4[\"LeadSponsorName\"].str.find('Science')>=0]"
   ]
  },
  {
   "cell_type": "code",
   "execution_count": 170,
   "metadata": {},
   "outputs": [
    {
     "data": {
      "text/plain": [
       "169    Louisiana State University Health Sciences Cen...\n",
       "251                                 TASK Applied Science\n",
       "379       Institute of Liver and Biliary Sciences, India\n",
       "415                 Hamilton Health Sciences Corporation\n",
       "455    Puren Hospital Affiliated to Wuhan University ...\n",
       "660                    Sunnybrook Health Sciences Centre\n",
       "666               Wake Forest University Health Sciences\n",
       "676    Institute of Biophysics and Cell Engineering o...\n",
       "683                                      Gilead Sciences\n",
       "697                                      Gilead Sciences\n",
       "723               Wake Forest University Health Sciences\n",
       "746       Institute of Liver and Biliary Sciences, India\n",
       "771    Insitute of Biotechnology, Academy of Military...\n",
       "878    University of Social Sciences and Humanities, ...\n",
       "915                               Kinevant Sciences GmbH\n",
       "Name: LeadSponsorName, dtype: object"
      ]
     },
     "execution_count": 170,
     "metadata": {},
     "output_type": "execute_result"
    }
   ],
   "source": [
    "spo_sci"
   ]
  },
  {
   "cell_type": "code",
   "execution_count": 352,
   "metadata": {},
   "outputs": [],
   "source": [
    "spo_sci=df4[\"CollaboratorName\"].loc[df4[\"CollaboratorName\"].str.find('Pfizer')>=0]"
   ]
  },
  {
   "cell_type": "code",
   "execution_count": 353,
   "metadata": {},
   "outputs": [
    {
     "data": {
      "text/plain": [
       "601    Pfizer\n",
       "664    Pfizer\n",
       "Name: CollaboratorName, dtype: object"
      ]
     },
     "execution_count": 353,
     "metadata": {},
     "output_type": "execute_result"
    }
   ],
   "source": [
    "spo_sci"
   ]
  },
  {
   "cell_type": "markdown",
   "metadata": {},
   "source": [
    "### NLP to assess study sentiments"
   ]
  },
  {
   "cell_type": "code",
   "execution_count": 275,
   "metadata": {},
   "outputs": [],
   "source": [
    "df_na_2 =df4.loc[df4['DetailedDescription'].isnull() == False]"
   ]
  },
  {
   "cell_type": "code",
   "execution_count": 292,
   "metadata": {},
   "outputs": [
    {
     "data": {
      "text/plain": [
       "(383, 11)"
      ]
     },
     "execution_count": 292,
     "metadata": {},
     "output_type": "execute_result"
    }
   ],
   "source": [
    "df_na_2.shape"
   ]
  },
  {
   "cell_type": "code",
   "execution_count": 197,
   "metadata": {},
   "outputs": [],
   "source": [
    "import tensorflow as tf"
   ]
  },
  {
   "cell_type": "code",
   "execution_count": 198,
   "metadata": {},
   "outputs": [
    {
     "data": {
      "text/plain": [
       "'2.0.0'"
      ]
     },
     "execution_count": 198,
     "metadata": {},
     "output_type": "execute_result"
    }
   ],
   "source": [
    "tf.__version__"
   ]
  },
  {
   "cell_type": "code",
   "execution_count": 199,
   "metadata": {},
   "outputs": [],
   "source": [
    "from tensorflow import keras"
   ]
  },
  {
   "cell_type": "code",
   "execution_count": 200,
   "metadata": {},
   "outputs": [
    {
     "name": "stdout",
     "output_type": "stream",
     "text": [
      "Note: you may need to restart the kernel to use updated packages.\n"
     ]
    }
   ],
   "source": [
    "pip install -q tensorflow-datasets"
   ]
  },
  {
   "cell_type": "code",
   "execution_count": 201,
   "metadata": {},
   "outputs": [],
   "source": [
    "from tensorflow.keras.preprocessing.text import Tokenizer\n",
    "from tensorflow.keras.preprocessing.sequence import pad_sequences"
   ]
  },
  {
   "cell_type": "code",
   "execution_count": 202,
   "metadata": {},
   "outputs": [],
   "source": [
    "import tensorflow_datasets as tfds"
   ]
  },
  {
   "cell_type": "code",
   "execution_count": 203,
   "metadata": {},
   "outputs": [],
   "source": [
    "imdb, info = tfds.load('imdb_reviews', with_info = True, as_supervised=True)"
   ]
  },
  {
   "cell_type": "code",
   "execution_count": 204,
   "metadata": {},
   "outputs": [],
   "source": [
    "train_data, test_data = imdb['train'], imdb['test']"
   ]
  },
  {
   "cell_type": "code",
   "execution_count": 205,
   "metadata": {},
   "outputs": [],
   "source": [
    "training_sentences = []\n",
    "training_labels =[]\n",
    "\n",
    "testing_sentences = []\n",
    "testing_labels =[]\n",
    "\n",
    "for s,l in train_data:\n",
    "    training_sentences.append(str(s.numpy()))\n",
    "    training_labels.append(l.numpy())\n",
    "    \n",
    "for s,l in test_data:\n",
    "    testing_sentences.append(str(s.numpy()))\n",
    "    testing_labels.append(l.numpy())\n",
    "    \n",
    "training_labels_final = np.array(training_labels)\n",
    "testing_labels_final = np.array(testing_labels)"
   ]
  },
  {
   "cell_type": "code",
   "execution_count": 206,
   "metadata": {},
   "outputs": [],
   "source": [
    "vocab_size = 10000\n",
    "embedding_dim = 16\n",
    "max_length = 120\n",
    "trunc_type='post'\n",
    "oov_tok = \"<OOV>\""
   ]
  },
  {
   "cell_type": "code",
   "execution_count": 207,
   "metadata": {},
   "outputs": [],
   "source": [
    "tokenizer = Tokenizer(num_words=vocab_size, oov_token= oov_tok)"
   ]
  },
  {
   "cell_type": "code",
   "execution_count": 208,
   "metadata": {},
   "outputs": [],
   "source": [
    "tokenizer.fit_on_texts(training_sentences)\n",
    "word_index = tokenizer.word_index\n",
    "sequences = tokenizer.texts_to_sequences(training_sentences)\n",
    "padded = pad_sequences(sequences,maxlen = max_length, truncating=trunc_type)\n",
    "\n",
    "#testing \n",
    "\n",
    "testing_sequences = tokenizer.texts_to_sequences(testing_sentences)\n",
    "testing_padded = pad_sequences(testing_sequences,maxlen=max_length)\n"
   ]
  },
  {
   "cell_type": "code",
   "execution_count": 212,
   "metadata": {},
   "outputs": [],
   "source": [
    "\n",
    "\n",
    "model = tf.keras.Sequential([\n",
    "    tf.keras.layers.Embedding(vocab_size, embedding_dim, input_length=max_length),\n",
    "    tf.keras.layers.Flatten(),\n",
    "    tf.keras.layers.Dense(6, activation='relu'),\n",
    "    tf.keras.layers.Dense(1, activation='sigmoid')\n",
    "])"
   ]
  },
  {
   "cell_type": "code",
   "execution_count": 213,
   "metadata": {},
   "outputs": [],
   "source": [
    "model.compile(loss='binary_crossentropy', optimizer='adam', metrics=['accuracy'])"
   ]
  },
  {
   "cell_type": "code",
   "execution_count": 214,
   "metadata": {},
   "outputs": [
    {
     "name": "stdout",
     "output_type": "stream",
     "text": [
      "Model: \"sequential\"\n",
      "_________________________________________________________________\n",
      "Layer (type)                 Output Shape              Param #   \n",
      "=================================================================\n",
      "embedding (Embedding)        (None, 120, 16)           160000    \n",
      "_________________________________________________________________\n",
      "flatten (Flatten)            (None, 1920)              0         \n",
      "_________________________________________________________________\n",
      "dense (Dense)                (None, 6)                 11526     \n",
      "_________________________________________________________________\n",
      "dense_1 (Dense)              (None, 1)                 7         \n",
      "=================================================================\n",
      "Total params: 171,533\n",
      "Trainable params: 171,533\n",
      "Non-trainable params: 0\n",
      "_________________________________________________________________\n"
     ]
    }
   ],
   "source": [
    "model.summary()"
   ]
  },
  {
   "cell_type": "code",
   "execution_count": 215,
   "metadata": {},
   "outputs": [
    {
     "name": "stdout",
     "output_type": "stream",
     "text": [
      "Train on 25000 samples, validate on 25000 samples\n",
      "Epoch 1/10\n",
      "25000/25000 [==============================] - 72s 3ms/sample - loss: 0.4946 - accuracy: 0.7443 - val_loss: 0.3440 - val_accuracy: 0.8491\n",
      "Epoch 2/10\n",
      "25000/25000 [==============================] - 10s 407us/sample - loss: 0.2376 - accuracy: 0.9108 - val_loss: 0.3777 - val_accuracy: 0.8346\n",
      "Epoch 3/10\n",
      "25000/25000 [==============================] - 9s 379us/sample - loss: 0.0880 - accuracy: 0.9778 - val_loss: 0.4745 - val_accuracy: 0.8192\n",
      "Epoch 4/10\n",
      "25000/25000 [==============================] - 10s 381us/sample - loss: 0.0207 - accuracy: 0.9972 - val_loss: 0.5304 - val_accuracy: 0.8236\n",
      "Epoch 5/10\n",
      "25000/25000 [==============================] - 9s 374us/sample - loss: 0.0048 - accuracy: 0.9998 - val_loss: 0.5874 - val_accuracy: 0.8262\n",
      "Epoch 6/10\n",
      "25000/25000 [==============================] - 9s 366us/sample - loss: 0.0018 - accuracy: 0.9999 - val_loss: 0.6346 - val_accuracy: 0.8263\n",
      "Epoch 7/10\n",
      "25000/25000 [==============================] - 10s 383us/sample - loss: 8.1683e-04 - accuracy: 1.0000 - val_loss: 0.6758 - val_accuracy: 0.8272\n",
      "Epoch 8/10\n",
      "25000/25000 [==============================] - 9s 378us/sample - loss: 4.6686e-04 - accuracy: 1.0000 - val_loss: 0.7162 - val_accuracy: 0.8281\n",
      "Epoch 9/10\n",
      "25000/25000 [==============================] - 9s 374us/sample - loss: 2.6082e-04 - accuracy: 1.0000 - val_loss: 0.7527 - val_accuracy: 0.8282\n",
      "Epoch 10/10\n",
      "25000/25000 [==============================] - 9s 374us/sample - loss: 1.5421e-04 - accuracy: 1.0000 - val_loss: 0.7883 - val_accuracy: 0.8281\n"
     ]
    }
   ],
   "source": [
    "num_epochs = 10\n",
    "history = model.fit(padded, training_labels_final, epochs=num_epochs, validation_data=(testing_padded, testing_labels_final))"
   ]
  },
  {
   "cell_type": "code",
   "execution_count": 278,
   "metadata": {},
   "outputs": [],
   "source": [
    "test_sequences = tokenizer.texts_to_sequences(df_sentences)"
   ]
  },
  {
   "cell_type": "code",
   "execution_count": 279,
   "metadata": {},
   "outputs": [
    {
     "data": {
      "text/plain": [
       "array([   1, 2212,    6,  820,   70,    1, 2723,    6,    1,    1,  236,\n",
       "          9,  670,    6, 2104, 2777,  370,   17,   35,    1,    1, 5603,\n",
       "          1,  317,   70,    1,    2, 7162,   60,   81,    1,   38,    2,\n",
       "          1,  819,  374,    4,  281,  104,    9,  670,    6, 6915,    2,\n",
       "          1,    5, 2777,  370, 4682, 3817,    6,    1,    1,  236,    9,\n",
       "        406,    1,    1,    1,   81,   29, 2978,   46,  104,    2,    1,\n",
       "       5131,    6,   24,    1,    1,    9,  207,    5, 3152,    2, 2947,\n",
       "          7,    6,   28,    4,  130, 1877,    5,    2,    1,    1,  236,\n",
       "          1,    3,    1, 6498,    9,  851,   94, 3892,    9,    1,    1,\n",
       "          1,    3,    1,    3,    6,  130,  397,    2, 9537, 3923,    3,\n",
       "          2,    1,    5,    1,  752,   12,  851,  440,  503, 3776],\n",
       "      dtype=int32)"
      ]
     },
     "execution_count": 279,
     "metadata": {},
     "output_type": "execute_result"
    }
   ],
   "source": [
    "padd_test_sequences = pad_sequences(test_sequences, padding='post', maxlen=120)\n",
    "padd_test_sequences[0]"
   ]
  },
  {
   "cell_type": "code",
   "execution_count": 282,
   "metadata": {},
   "outputs": [],
   "source": [
    "predicted_results=model.predict(padd_test_sequences)"
   ]
  },
  {
   "cell_type": "code",
   "execution_count": 284,
   "metadata": {},
   "outputs": [],
   "source": [
    "# np.delete(predicted_results, 1)"
   ]
  },
  {
   "cell_type": "code",
   "execution_count": 285,
   "metadata": {},
   "outputs": [
    {
     "data": {
      "text/plain": [
       "(383, 1)"
      ]
     },
     "execution_count": 285,
     "metadata": {},
     "output_type": "execute_result"
    }
   ],
   "source": [
    "predicted_results.shape"
   ]
  },
  {
   "cell_type": "code",
   "execution_count": 286,
   "metadata": {},
   "outputs": [
    {
     "data": {
      "text/plain": [
       "array([3.79404426e-03, 8.31407428e-01, 1.15122914e-01, 9.93105888e-01,\n",
       "       3.29785347e-02, 9.18225467e-01, 1.53422356e-04, 9.99713182e-01,\n",
       "       6.99520111e-04, 2.61547685e-01, 9.57989693e-02, 1.94237143e-01,\n",
       "       6.05821609e-04, 2.64307857e-01, 8.36674452e-01, 7.69786000e-01,\n",
       "       9.94084716e-01, 1.50372893e-01, 5.93066216e-06, 9.78597403e-01,\n",
       "       4.56452131e-01, 7.05718994e-04, 8.74976754e-01, 9.78292048e-01,\n",
       "       8.39653611e-01, 7.97383785e-01, 8.27011228e-01, 7.33968914e-02,\n",
       "       9.99944687e-01, 9.96957421e-01, 8.97655785e-02, 6.94006681e-04,\n",
       "       8.29004705e-01, 6.11228645e-02, 6.49988651e-05, 9.97398555e-01,\n",
       "       7.41232097e-01, 2.59280205e-06, 1.93715096e-06, 2.66897678e-03,\n",
       "       6.26947522e-01, 9.90566492e-01, 1.01327896e-06, 9.94199038e-01,\n",
       "       4.58727837e-01, 2.55966187e-03, 9.99994874e-01, 8.95595014e-01,\n",
       "       9.99511719e-01, 9.98904228e-01, 5.89273930e-01, 5.37191331e-02,\n",
       "       2.11247802e-03, 1.75505877e-04, 1.60444736e-01, 9.45112884e-01,\n",
       "       6.10769987e-02, 5.63847065e-01, 9.99995351e-01, 6.45900786e-01,\n",
       "       1.89363956e-04, 9.74349320e-01, 1.08716488e-01, 3.62450480e-02,\n",
       "       2.06979930e-01, 2.97477782e-01, 3.93638015e-03, 3.87452811e-01,\n",
       "       1.00000000e+00, 3.99688184e-01, 8.10461998e-01, 9.96943116e-01,\n",
       "       9.94511724e-01, 9.80276167e-01, 1.14784241e-02, 6.10876083e-03,\n",
       "       1.35540962e-04, 4.93722856e-02, 8.65730643e-01, 9.96622920e-01,\n",
       "       9.98821139e-01, 9.51290131e-05, 2.27540731e-04, 9.99406219e-01,\n",
       "       3.02377343e-03, 9.91051674e-01, 1.17482841e-02, 4.09317076e-01,\n",
       "       2.05600560e-02, 2.59497762e-03, 9.99817312e-01, 9.96119857e-01,\n",
       "       1.12023950e-03, 9.12133336e-01, 1.27652287e-02, 7.70240366e-01,\n",
       "       2.27890939e-01, 7.60301113e-01, 1.82334214e-01, 9.99429703e-01,\n",
       "       9.99992728e-01, 3.87410820e-02, 9.99737859e-01, 6.93023205e-04,\n",
       "       1.79660320e-03, 8.92438293e-01, 9.60528851e-05, 1.47767603e-01,\n",
       "       9.99367833e-01, 9.81496632e-01, 4.96804714e-05, 7.27928877e-02,\n",
       "       5.90232313e-01, 8.44880223e-01, 1.12229586e-03, 9.99982715e-01,\n",
       "       9.96890187e-01, 2.66898513e-01, 4.79982793e-02, 9.96984363e-01,\n",
       "       9.99990404e-01, 7.55635321e-01, 9.96820867e-01, 1.14744902e-03,\n",
       "       3.53093445e-02, 4.17431891e-02, 1.82283163e-01, 2.61488557e-03,\n",
       "       9.99998927e-01, 4.01064754e-03, 3.69858742e-03, 9.18703437e-01,\n",
       "       8.55982304e-03, 6.80123627e-01, 2.04741955e-05, 9.99988377e-01,\n",
       "       7.01864958e-02, 9.85354841e-01, 9.83613968e-01, 3.05563211e-04,\n",
       "       6.70114160e-03, 1.90129519e-01, 9.53784049e-01, 9.09251809e-01,\n",
       "       7.75513470e-01, 6.83085561e-01, 8.57225478e-01, 9.89565253e-03,\n",
       "       4.36818898e-02, 2.83963978e-02, 5.14760613e-03, 1.20746017e-01,\n",
       "       1.86822116e-02, 9.99962568e-01, 4.61763144e-03, 9.99999166e-01,\n",
       "       4.11074460e-02, 7.79364586e-01, 2.11566687e-04, 1.03038847e-02,\n",
       "       5.20685315e-03, 8.90455246e-02, 9.93072689e-01, 9.99997377e-01,\n",
       "       2.80279756e-01, 8.20386410e-02, 9.25625086e-01, 9.64412808e-01,\n",
       "       1.18762255e-04, 7.15255737e-06, 1.67846680e-03, 2.70107239e-01,\n",
       "       9.85239029e-01, 1.36067271e-02, 3.62891793e-01, 6.95633888e-03,\n",
       "       4.49076295e-03, 9.91581917e-01, 9.99874711e-01, 9.99992907e-01,\n",
       "       9.99925137e-01, 7.04463005e-01, 9.99022841e-01, 4.61339951e-05,\n",
       "       1.37880445e-03, 2.44898975e-01, 9.99678910e-01, 5.61773777e-05,\n",
       "       3.87656093e-02, 2.38516033e-02, 7.29082346e-01, 4.95299697e-03,\n",
       "       6.17675185e-01, 9.68378186e-01, 9.99038994e-01, 1.02418721e-01,\n",
       "       6.91622496e-04, 2.09651828e-01, 3.09248418e-01, 9.88639951e-01,\n",
       "       6.94096088e-05, 1.22540891e-02, 2.86322832e-03, 7.62343407e-05,\n",
       "       9.99951422e-01, 9.98980284e-01, 9.19051409e-01, 8.12995136e-02,\n",
       "       9.79926109e-01, 1.10256970e-01, 8.35001469e-04, 1.81823969e-04,\n",
       "       8.31207633e-03, 8.69384706e-02, 1.04308128e-06, 3.75567973e-01,\n",
       "       1.03033185e-02, 8.69753599e-01, 8.98373723e-02, 1.74867213e-02,\n",
       "       3.37431431e-02, 9.71825719e-01, 9.89014387e-01, 9.88224983e-01,\n",
       "       9.99998927e-01, 5.27888536e-04, 9.99998391e-01, 1.44857079e-01,\n",
       "       5.06210327e-03, 1.15633011e-05, 8.10728192e-01, 9.48629677e-02,\n",
       "       1.69998646e-01, 9.99977708e-01, 4.97698784e-05, 9.72496271e-01,\n",
       "       7.29800344e-01, 9.99997556e-01, 7.49414802e-01, 7.13112652e-02,\n",
       "       1.87849194e-01, 7.30080009e-01, 3.05972457e-01, 7.35774934e-02,\n",
       "       9.73438323e-02, 9.95101094e-01, 9.99990940e-01, 2.50339508e-06,\n",
       "       8.39980721e-01, 9.50986981e-01, 7.24853754e-01, 1.87337399e-03,\n",
       "       2.39312649e-04, 4.04241681e-03, 3.96609306e-04, 9.96608078e-01,\n",
       "       9.99992907e-01, 9.56918001e-01, 9.99816418e-01, 1.01952285e-01,\n",
       "       2.61247158e-04, 1.01327896e-06, 2.11894512e-04, 2.62260437e-06,\n",
       "       9.53681231e-01, 1.08449459e-02, 9.99398172e-01, 2.43550837e-02,\n",
       "       9.99911249e-01, 9.99999762e-01, 3.89775038e-02, 1.09560728e-01,\n",
       "       9.98058081e-01, 5.47558069e-04, 9.99999583e-01, 8.24034214e-05,\n",
       "       7.44142711e-01, 7.96171486e-01, 4.69934940e-03, 6.56670392e-01,\n",
       "       9.30644274e-01, 4.96378541e-03, 2.41396457e-01, 7.55940080e-01,\n",
       "       9.99986351e-01, 1.67926311e-01, 4.84016538e-03, 6.07728779e-01,\n",
       "       1.70856714e-04, 9.99926925e-01, 5.24222851e-04, 1.13664269e-02,\n",
       "       7.62820244e-04, 4.72638011e-03, 7.52183497e-01, 5.22577763e-03,\n",
       "       9.97358084e-01, 6.38488829e-02, 1.67989999e-01, 9.78177249e-01,\n",
       "       3.95067871e-01, 7.98327804e-01, 9.48769629e-01, 8.98924410e-01,\n",
       "       9.97085094e-01, 8.03051710e-01, 5.13918817e-01, 3.36110592e-04,\n",
       "       3.14950943e-04, 2.38418579e-04, 4.47034836e-07, 5.04573584e-02,\n",
       "       9.99940157e-01, 6.26784325e-01, 1.89667642e-02, 1.09207630e-03,\n",
       "       1.43311322e-02, 2.75469422e-02, 4.36392426e-03, 1.64657831e-04,\n",
       "       6.25848770e-07, 2.42978334e-04, 9.50777292e-01, 1.53836578e-01,\n",
       "       2.43216157e-02, 3.02869678e-02, 1.86794996e-03, 8.48085582e-02,\n",
       "       9.99273777e-01, 1.49607658e-05, 3.73890996e-03, 5.07391810e-01,\n",
       "       9.87156272e-01, 4.14665341e-02, 3.20084691e-02, 7.42383003e-01,\n",
       "       9.91743863e-01, 2.10340023e-02, 9.99910951e-01, 2.46942043e-04,\n",
       "       7.74860382e-07, 4.58955765e-06, 9.99933243e-01, 9.48928595e-01,\n",
       "       1.11618638e-02, 1.07288361e-06, 5.30523062e-03, 9.76667166e-01,\n",
       "       9.88550246e-01, 1.03232265e-03, 1.91437006e-02, 9.99972701e-01,\n",
       "       9.99997735e-01, 1.67202950e-03, 1.81270540e-02, 1.85447931e-03,\n",
       "       3.73849571e-01, 1.43956125e-01, 6.56230032e-01, 9.99447465e-01,\n",
       "       5.80656528e-03, 9.07811522e-03, 1.49339437e-04, 7.44048655e-02,\n",
       "       8.69339705e-03, 5.11170626e-02, 8.62613320e-03, 1.23309493e-02,\n",
       "       7.01635957e-01, 2.29627132e-01, 1.39087439e-04, 4.25225496e-03,\n",
       "       2.18719244e-04, 7.59456158e-02, 8.79820108e-01, 6.01808548e-01,\n",
       "       2.83122063e-06, 9.99998569e-01, 5.37544489e-04, 9.99356806e-01,\n",
       "       9.92146194e-01, 6.78466141e-01], dtype=float32)"
      ]
     },
     "execution_count": 286,
     "metadata": {},
     "output_type": "execute_result"
    }
   ],
   "source": [
    "np.delete(predicted_results, 1)"
   ]
  },
  {
   "cell_type": "code",
   "execution_count": 289,
   "metadata": {},
   "outputs": [
    {
     "name": "stderr",
     "output_type": "stream",
     "text": [
      "/Users/shauryajoshi/opt/anaconda3/envs/tdi/lib/python3.7/site-packages/ipykernel_launcher.py:1: SettingWithCopyWarning: \n",
      "A value is trying to be set on a copy of a slice from a DataFrame.\n",
      "Try using .loc[row_indexer,col_indexer] = value instead\n",
      "\n",
      "See the caveats in the documentation: https://pandas.pydata.org/pandas-docs/stable/user_guide/indexing.html#returning-a-view-versus-a-copy\n",
      "  \"\"\"Entry point for launching an IPython kernel.\n"
     ]
    }
   ],
   "source": [
    "df_na_2['predicted_sentiment']=predicted_results"
   ]
  },
  {
   "cell_type": "code",
   "execution_count": 310,
   "metadata": {},
   "outputs": [
    {
     "data": {
      "text/plain": [
       "0.42241955"
      ]
     },
     "execution_count": 310,
     "metadata": {},
     "output_type": "execute_result"
    }
   ],
   "source": [
    "df_na_2['predicted_sentiment'].mean()"
   ]
  },
  {
   "cell_type": "code",
   "execution_count": 315,
   "metadata": {},
   "outputs": [],
   "source": [
    "df_positive=df_na_2.loc[df_na_2['predicted_sentiment']>=0.42241955]"
   ]
  },
  {
   "cell_type": "code",
   "execution_count": 314,
   "metadata": {},
   "outputs": [],
   "source": [
    "df_negative = df_na_2.loc[df_na_2['predicted_sentiment']<0.422419555]"
   ]
  },
  {
   "cell_type": "code",
   "execution_count": 313,
   "metadata": {},
   "outputs": [
    {
     "data": {
      "text/plain": [
       "(array([175.,  21.,  12.,   8.,   3.,   5.,  11.,  21.,  18., 109.]),\n",
       " array([4.47034836e-07, 1.00000404e-01, 2.00000361e-01, 3.00000310e-01,\n",
       "        4.00000274e-01, 5.00000238e-01, 6.00000203e-01, 7.00000107e-01,\n",
       "        8.00000072e-01, 9.00000036e-01, 1.00000000e+00], dtype=float32),\n",
       " <a list of 10 Patch objects>)"
      ]
     },
     "execution_count": 313,
     "metadata": {},
     "output_type": "execute_result"
    },
    {
     "data": {
      "image/png": "[encoded data removed]",
      "text/plain": [
       "<Figure size 432x288 with 1 Axes>"
      ]
     },
     "metadata": {
      "needs_background": "light"
     },
     "output_type": "display_data"
    }
   ],
   "source": [
    "plt.hist(df_na_2['predicted_sentiment'])"
   ]
  },
  {
   "cell_type": "code",
   "execution_count": 367,
   "metadata": {},
   "outputs": [
    {
     "data": {
      "text/html": [
       "<div>\n",
       "<style scoped>\n",
       "    .dataframe tbody tr th:only-of-type {\n",
       "        vertical-align: middle;\n",
       "    }\n",
       "\n",
       "    .dataframe tbody tr th {\n",
       "        vertical-align: top;\n",
       "    }\n",
       "\n",
       "    .dataframe thead th {\n",
       "        text-align: right;\n",
       "    }\n",
       "</style>\n",
       "<table border=\"1\" class=\"dataframe\">\n",
       "  <thead>\n",
       "    <tr style=\"text-align: right;\">\n",
       "      <th></th>\n",
       "      <th>LeadSponsorName</th>\n",
       "      <th>CollaboratorName</th>\n",
       "    </tr>\n",
       "  </thead>\n",
       "  <tbody>\n",
       "    <tr>\n",
       "      <th>11</th>\n",
       "      <td>University of Calgary</td>\n",
       "      <td>None</td>\n",
       "    </tr>\n",
       "    <tr>\n",
       "      <th>16</th>\n",
       "      <td>University Hospital Tuebingen</td>\n",
       "      <td>None</td>\n",
       "    </tr>\n",
       "    <tr>\n",
       "      <th>19</th>\n",
       "      <td>University Hospital, Angers</td>\n",
       "      <td>None</td>\n",
       "    </tr>\n",
       "    <tr>\n",
       "      <th>36</th>\n",
       "      <td>Fundacion SEIMC-GESIDA</td>\n",
       "      <td>None</td>\n",
       "    </tr>\n",
       "    <tr>\n",
       "      <th>46</th>\n",
       "      <td>Johns Hopkins University</td>\n",
       "      <td>None</td>\n",
       "    </tr>\n",
       "    <tr>\n",
       "      <th>...</th>\n",
       "      <td>...</td>\n",
       "      <td>...</td>\n",
       "    </tr>\n",
       "    <tr>\n",
       "      <th>981</th>\n",
       "      <td>Assistance Publique - Hôpitaux de Paris</td>\n",
       "      <td>None</td>\n",
       "    </tr>\n",
       "    <tr>\n",
       "      <th>987</th>\n",
       "      <td>Fondazione per la Ricerca Ospedale Maggiore</td>\n",
       "      <td>European Leukemia Net</td>\n",
       "    </tr>\n",
       "    <tr>\n",
       "      <th>990</th>\n",
       "      <td>University Health Network, Toronto</td>\n",
       "      <td>None</td>\n",
       "    </tr>\n",
       "    <tr>\n",
       "      <th>991</th>\n",
       "      <td>National Institute of Mental Health (NIMH)</td>\n",
       "      <td>None</td>\n",
       "    </tr>\n",
       "    <tr>\n",
       "      <th>997</th>\n",
       "      <td>University Hospital, Toulouse</td>\n",
       "      <td>None</td>\n",
       "    </tr>\n",
       "  </tbody>\n",
       "</table>\n",
       "<p>166 rows × 2 columns</p>\n",
       "</div>"
      ],
      "text/plain": [
       "                                 LeadSponsorName       CollaboratorName\n",
       "11                         University of Calgary                   None\n",
       "16                 University Hospital Tuebingen                   None\n",
       "19                   University Hospital, Angers                   None\n",
       "36                        Fundacion SEIMC-GESIDA                   None\n",
       "46                      Johns Hopkins University                   None\n",
       "..                                           ...                    ...\n",
       "981      Assistance Publique - Hôpitaux de Paris                   None\n",
       "987  Fondazione per la Ricerca Ospedale Maggiore  European Leukemia Net\n",
       "990           University Health Network, Toronto                   None\n",
       "991   National Institute of Mental Health (NIMH)                   None\n",
       "997                University Hospital, Toulouse                   None\n",
       "\n",
       "[166 rows x 2 columns]"
      ]
     },
     "execution_count": 367,
     "metadata": {},
     "output_type": "execute_result"
    }
   ],
   "source": [
    "df_positive[['LeadSponsorName', 'CollaboratorName']]"
   ]
  }
 ],
 "metadata": {
  "kernelspec": {
   "display_name": "Python 3",
   "language": "python",
   "name": "python3"
  },
  "language_info": {
   "codemirror_mode": {
    "name": "ipython",
    "version": 3
   },
   "file_extension": ".py",
   "mimetype": "text/x-python",
   "name": "python",
   "nbconvert_exporter": "python",
   "pygments_lexer": "ipython3",
   "version": "3.7.6"
  }
 },
 "nbformat": 4,
 "nbformat_minor": 2
}
