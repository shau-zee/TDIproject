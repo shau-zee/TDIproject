{
 "cells": [
  {
   "cell_type": "code",
   "execution_count": 1,
   "metadata": {},
   "outputs": [],
   "source": [
    "import requests\n",
    "from bs4 import BeautifulSoup\n",
    "import csv \n",
    "import pandas as pd \n",
    "import re\n",
    "from urllib.parse import urlparse\n",
    "from urllib.parse import urljoin\n",
    "from time import sleep\n",
    "from random import randint"
   ]
  },
  {
   "cell_type": "code",
   "execution_count": null,
   "metadata": {},
   "outputs": [],
   "source": [
    "names=[]\n",
    "prices=[]\n",
    "changes=[]\n",
    "percentChanges=[]\n",
    "volumes=[]\n",
    "_50_day_averages=[]\n",
    "_200_day_averages=[]\n",
    "\n",
    "\n",
    "    \n",
    "CryptoCurrenciesUrl = input('Enter website here: ')\n",
    "r= requests.get(CryptoCurrenciesUrl)\n",
    "data=r.text\n",
    "soup=BeautifulSoup(data)\n",
    "\n",
    "webpage_list=[]\n",
    "\n",
    "web_url = 'http://finance.yahoo.com'\n",
    "section= soup.section\n",
    "\n",
    "for url in section.find_all('a'):\n",
    "    webpage_list.append(urljoin(web_url, url.get('href')))\n",
    "    \n",
    "\n",
    "for rlisting in soup.find_all('tbody'):\n",
    "    for listing in rlisting.find_all('tr', attrs={'class':'simpTblRow'}): \n",
    "        for name in listing.find_all('td', attrs={'aria-label':'Name'}):\n",
    "            names.append(name.text)\n",
    "        for price in listing.find_all('td', attrs={'aria-label':'Price (Intraday)'}):\n",
    "            prices.append(price.text)\n",
    "        for change in listing.find_all('td', attrs={'aria-label':'Change'}):\n",
    "            changes.append(change.text)\n",
    "        for percentChange in listing.find_all('td', attrs={'aria-label':'% Change'}):\n",
    "            percentChanges.append(percentChange.text)\n",
    "        for volume in listing.find_all('td', attrs={'aria-label':'Volume'}):\n",
    "            volumes.append(volume.text)\n",
    "        for _50_day_average in listing.find_all('td', attrs={'aria-label':'50 Day Average'}):\n",
    "            _50_day_averages.append(_50_day_average.text)\n",
    "        for _200_day_average in listing.find_all('td', attrs={'aria-label':'200 Day Average'}):\n",
    "            _200_day_averages.append(_200_day_average.text)\n",
    "        \n",
    "\n",
    "\n",
    "        \n",
    "df = pd.DataFrame({\"Names\": names, \"Prices\": prices, \"Change\": changes, \"% Change\": percentChanges, \"Volume\": volumes, \"50 day average\": _50_day_averages,\"200 day average\":_200_day_averages})\n",
    "df"
   ]
  },
  {
   "cell_type": "code",
   "execution_count": 53,
   "metadata": {},
   "outputs": [],
   "source": [
    "all_data=[]\n",
    "i = 0\n",
    "for link in range(len(webpage_list)):\n",
    "    r2=requests.get(webpage_list[i])\n",
    "    sleep(randint(8, 20))\n",
    "    data2=r2.text\n",
    "    all_data.append(data2)\n",
    "    i = i + 1\n",
    "    if i>100:\n",
    "        break\n",
    "       \n"
   ]
  },
  {
   "cell_type": "code",
   "execution_count": 1,
   "metadata": {},
   "outputs": [
    {
     "ename": "NameError",
     "evalue": "name 'all_data' is not defined",
     "output_type": "error",
     "traceback": [
      "\u001b[0;31m---------------------------------------------------------------------------\u001b[0m",
      "\u001b[0;31mNameError\u001b[0m                                 Traceback (most recent call last)",
      "\u001b[0;32m<ipython-input-1-9710fb0ff2f3>\u001b[0m in \u001b[0;36m<module>\u001b[0;34m\u001b[0m\n\u001b[1;32m      4\u001b[0m \u001b[0m_52_week_ranges\u001b[0m\u001b[0;34m=\u001b[0m\u001b[0;34m[\u001b[0m\u001b[0;34m]\u001b[0m\u001b[0;34m\u001b[0m\u001b[0;34m\u001b[0m\u001b[0m\n\u001b[1;32m      5\u001b[0m \u001b[0mi\u001b[0m\u001b[0;34m=\u001b[0m \u001b[0;36m0\u001b[0m\u001b[0;34m\u001b[0m\u001b[0;34m\u001b[0m\u001b[0m\n\u001b[0;32m----> 6\u001b[0;31m \u001b[0;32mfor\u001b[0m \u001b[0mdata2\u001b[0m \u001b[0;32min\u001b[0m \u001b[0mrange\u001b[0m\u001b[0;34m(\u001b[0m\u001b[0mlen\u001b[0m\u001b[0;34m(\u001b[0m\u001b[0mall_data\u001b[0m\u001b[0;34m)\u001b[0m\u001b[0;34m)\u001b[0m\u001b[0;34m:\u001b[0m\u001b[0;34m\u001b[0m\u001b[0;34m\u001b[0m\u001b[0m\n\u001b[0m\u001b[1;32m      7\u001b[0m \u001b[0;34m\u001b[0m\u001b[0m\n\u001b[1;32m      8\u001b[0m     \u001b[0msoup2\u001b[0m\u001b[0;34m=\u001b[0m \u001b[0mBeautifulSoup\u001b[0m\u001b[0;34m(\u001b[0m\u001b[0mall_data\u001b[0m\u001b[0;34m[\u001b[0m\u001b[0mi\u001b[0m\u001b[0;34m]\u001b[0m\u001b[0;34m)\u001b[0m\u001b[0;34m\u001b[0m\u001b[0;34m\u001b[0m\u001b[0m\n",
      "\u001b[0;31mNameError\u001b[0m: name 'all_data' is not defined"
     ]
    }
   ],
   "source": [
    "exp_ratios=[]\n",
    "_yields=[]\n",
    "NAVs=[]\n",
    "_52_week_ranges=[]\n",
    "i= 0\n",
    "for data2 in range(len(all_data)): \n",
    "    \n",
    "    soup2= BeautifulSoup(all_data[i])\n",
    "    \n",
    "    \n",
    "        \n",
    "    for listing2 in soup2.find_all('tbody'):\n",
    "        for exp_ratio in listing2.find_all('td', attrs={'data-test':'EXPENSE_RATIO-value'}): \n",
    "            exp_ratios.append(exp_ratio.text)\n",
    "        for _yield in listing2.find_all('td', attrs={'data-test':'TD_YIELD-value'}): \n",
    "            _yields.append(_yield.text)\n",
    "        for NAV in listing2.find_all('td', attrs={'data-test':'NAV-value'}): \n",
    "            NAVs.append(NAV.text)\n",
    "        for _52_week_range in listing2.find_all('td', attrs={'data-test':'FIFTY_TWO_WK_RANGE-value'}): \n",
    "            _52_week_ranges.append(_52_week_range.text)\n",
    "    i= i + 1\n",
    "    if i>100:\n",
    "        break            \n",
    "   \n",
    "        \n",
    "df2 = pd.DataFrame({\"Expense Ratio\": exp_ratios, \"Yield\": _yields, \"NAV\": NAVs, \"52 week range\": _52_week_ranges})\n",
    "df3 = pd.concat([df, df2], axis= 1, sort=False)\n",
    "df3\n",
    "df3.to_csv('ETFs_list_03_26_2020', index=False)"
   ]
  },
  {
   "cell_type": "code",
   "execution_count": null,
   "metadata": {},
   "outputs": [],
   "source": []
  }
 ],
 "metadata": {
  "kernelspec": {
   "display_name": "Python 3",
   "language": "python",
   "name": "python3"
  },
  "language_info": {
   "codemirror_mode": {
    "name": "ipython",
    "version": 3
   },
   "file_extension": ".py",
   "mimetype": "text/x-python",
   "name": "python",
   "nbconvert_exporter": "python",
   "pygments_lexer": "ipython3",
   "version": "3.7.4"
  }
 },
 "nbformat": 4,
 "nbformat_minor": 2
}
